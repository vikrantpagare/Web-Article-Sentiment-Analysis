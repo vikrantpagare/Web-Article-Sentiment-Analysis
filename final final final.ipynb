{
 "cells": [
  {
   "cell_type": "code",
   "execution_count": 1,
   "metadata": {},
   "outputs": [
    {
     "name": "stderr",
     "output_type": "stream",
     "text": [
      "[nltk_data] Downloading package stopwords to\n",
      "[nltk_data]     C:\\Users\\lenovo\\AppData\\Roaming\\nltk_data...\n",
      "[nltk_data]   Package stopwords is already up-to-date!\n",
      "[nltk_data] Downloading package stopwords to\n",
      "[nltk_data]     C:\\Users\\lenovo\\AppData\\Roaming\\nltk_data...\n",
      "[nltk_data]   Package stopwords is already up-to-date!\n",
      "[nltk_data] Downloading package vader_lexicon to\n",
      "[nltk_data]     C:\\Users\\lenovo\\AppData\\Roaming\\nltk_data...\n",
      "[nltk_data]   Package vader_lexicon is already up-to-date!\n"
     ]
    },
    {
     "name": "stdout",
     "output_type": "stream",
     "text": [
      "blackassign0001 Is Genarated in same folder !\n",
      "blackassign0002 Is Genarated in same folder !\n",
      "blackassign0003 Is Genarated in same folder !\n",
      "blackassign0004 Is Genarated in same folder !\n",
      "blackassign0005 Is Genarated in same folder !\n",
      "blackassign0006 Is Genarated in same folder !\n",
      "blackassign0007 Is Genarated in same folder !\n",
      "blackassign0008 Is Genarated in same folder !\n",
      "blackassign0009 Is Genarated in same folder !\n",
      "blackassign0010 Is Genarated in same folder !\n",
      "blackassign0011 Is Genarated in same folder !\n",
      "blackassign0012 Is Genarated in same folder !\n",
      "blackassign0013 Is Genarated in same folder !\n",
      "blackassign0014 Is Genarated in same folder !\n",
      "blackassign0015 Is Genarated in same folder !\n",
      "blackassign0016 Is Genarated in same folder !\n",
      "blackassign0017 Is Genarated in same folder !\n",
      "blackassign0018 Is Genarated in same folder !\n",
      "blackassign0019 Is Genarated in same folder !\n",
      "blackassign0020 Is Genarated in same folder !\n",
      "blackassign0021 Is Genarated in same folder !\n",
      "blackassign0022 Is Genarated in same folder !\n",
      "blackassign0023 Is Genarated in same folder !\n",
      "blackassign0024 Is Genarated in same folder !\n",
      "blackassign0025 Is Genarated in same folder !\n",
      "blackassign0026 Is Genarated in same folder !\n",
      "blackassign0027 Is Genarated in same folder !\n",
      "blackassign0028 Is Genarated in same folder !\n",
      "blackassign0029 Is Genarated in same folder !\n",
      "blackassign0030 Is Genarated in same folder !\n",
      "blackassign0031 Is Genarated in same folder !\n",
      "blackassign0032 Is Genarated in same folder !\n",
      "blackassign0033 Is Genarated in same folder !\n",
      "blackassign0034 Is Genarated in same folder !\n",
      "blackassign0035 Is Genarated in same folder !\n",
      "blackassign0036 Is Genarated in same folder !\n",
      "blackassign0037 Is Genarated in same folder !\n",
      "blackassign0038 Is Genarated in same folder !\n",
      "blackassign0039 Is Genarated in same folder !\n",
      "blackassign0040 Is Genarated in same folder !\n",
      "blackassign0041 Is Genarated in same folder !\n",
      "blackassign0042 Is Genarated in same folder !\n",
      "blackassign0043 Is Genarated in same folder !\n",
      "blackassign0044 Is Genarated in same folder !\n",
      "blackassign0045 Is Genarated in same folder !\n",
      "blackassign0046 Is Genarated in same folder !\n",
      "blackassign0047 Is Genarated in same folder !\n",
      "blackassign0048 Is Genarated in same folder !\n",
      "blackassign0049 Is Genarated in same folder !\n",
      "blackassign0050 Is Genarated in same folder !\n",
      "blackassign0051 Is Genarated in same folder !\n",
      "blackassign0052 Is Genarated in same folder !\n",
      "blackassign0053 Is Genarated in same folder !\n",
      "blackassign0054 Is Genarated in same folder !\n",
      "blackassign0055 Is Genarated in same folder !\n",
      "blackassign0056 Is Genarated in same folder !\n",
      "blackassign0057 Is Genarated in same folder !\n",
      "blackassign0058 Is Genarated in same folder !\n",
      "blackassign0059 Is Genarated in same folder !\n",
      "blackassign0060 Is Genarated in same folder !\n",
      "blackassign0061 Is Genarated in same folder !\n",
      "blackassign0062 Is Genarated in same folder !\n",
      "blackassign0063 Is Genarated in same folder !\n",
      "blackassign0064 Is Genarated in same folder !\n",
      "blackassign0065 Is Genarated in same folder !\n",
      "blackassign0066 Is Genarated in same folder !\n",
      "blackassign0067 Is Genarated in same folder !\n",
      "blackassign0068 Is Genarated in same folder !\n",
      "blackassign0069 Is Genarated in same folder !\n",
      "blackassign0070 Is Genarated in same folder !\n",
      "blackassign0071 Is Genarated in same folder !\n",
      "blackassign0072 Is Genarated in same folder !\n",
      "blackassign0073 Is Genarated in same folder !\n",
      "blackassign0074 Is Genarated in same folder !\n",
      "blackassign0075 Is Genarated in same folder !\n",
      "blackassign0076 Is Genarated in same folder !\n",
      "blackassign0077 Is Genarated in same folder !\n",
      "blackassign0078 Is Genarated in same folder !\n",
      "blackassign0079 Is Genarated in same folder !\n",
      "blackassign0080 Is Genarated in same folder !\n",
      "blackassign0081 Is Genarated in same folder !\n",
      "blackassign0082 Is Genarated in same folder !\n",
      "blackassign0083 Is Genarated in same folder !\n",
      "blackassign0084 Is Genarated in same folder !\n",
      "blackassign0085 Is Genarated in same folder !\n",
      "blackassign0086 Is Genarated in same folder !\n",
      "blackassign0087 Is Genarated in same folder !\n",
      "blackassign0088 Is Genarated in same folder !\n",
      "blackassign0089 Is Genarated in same folder !\n",
      "blackassign0090 Is Genarated in same folder !\n",
      "blackassign0091 Is Genarated in same folder !\n",
      "blackassign0092 Is Genarated in same folder !\n",
      "blackassign0093 Is Genarated in same folder !\n",
      "blackassign0094 Is Genarated in same folder !\n",
      "blackassign0095 Is Genarated in same folder !\n",
      "blackassign0096 Is Genarated in same folder !\n",
      "blackassign0097 Is Genarated in same folder !\n",
      "blackassign0098 Is Genarated in same folder !\n",
      "blackassign0099 Is Genarated in same folder !\n",
      "blackassign0100 Is Genarated in same folder !\n"
     ]
    },
    {
     "name": "stderr",
     "output_type": "stream",
     "text": [
      "[nltk_data] Downloading package stopwords to\n",
      "[nltk_data]     C:\\Users\\lenovo\\AppData\\Roaming\\nltk_data...\n",
      "[nltk_data]   Package stopwords is already up-to-date!\n"
     ]
    },
    {
     "name": "stdout",
     "output_type": "stream",
     "text": [
      "blackassign0001 Done !\n"
     ]
    },
    {
     "name": "stderr",
     "output_type": "stream",
     "text": [
      "[nltk_data] Downloading package stopwords to\n",
      "[nltk_data]     C:\\Users\\lenovo\\AppData\\Roaming\\nltk_data...\n",
      "[nltk_data]   Package stopwords is already up-to-date!\n"
     ]
    },
    {
     "name": "stdout",
     "output_type": "stream",
     "text": [
      "blackassign0002 Done !\n"
     ]
    },
    {
     "name": "stderr",
     "output_type": "stream",
     "text": [
      "[nltk_data] Downloading package stopwords to\n",
      "[nltk_data]     C:\\Users\\lenovo\\AppData\\Roaming\\nltk_data...\n",
      "[nltk_data]   Package stopwords is already up-to-date!\n"
     ]
    },
    {
     "name": "stdout",
     "output_type": "stream",
     "text": [
      "blackassign0003 Done !\n"
     ]
    },
    {
     "name": "stderr",
     "output_type": "stream",
     "text": [
      "[nltk_data] Downloading package stopwords to\n",
      "[nltk_data]     C:\\Users\\lenovo\\AppData\\Roaming\\nltk_data...\n",
      "[nltk_data]   Package stopwords is already up-to-date!\n"
     ]
    },
    {
     "name": "stdout",
     "output_type": "stream",
     "text": [
      "blackassign0004 Done !\n"
     ]
    },
    {
     "name": "stderr",
     "output_type": "stream",
     "text": [
      "[nltk_data] Downloading package stopwords to\n",
      "[nltk_data]     C:\\Users\\lenovo\\AppData\\Roaming\\nltk_data...\n",
      "[nltk_data]   Package stopwords is already up-to-date!\n"
     ]
    },
    {
     "name": "stdout",
     "output_type": "stream",
     "text": [
      "blackassign0005 Done !\n"
     ]
    },
    {
     "name": "stderr",
     "output_type": "stream",
     "text": [
      "[nltk_data] Downloading package stopwords to\n",
      "[nltk_data]     C:\\Users\\lenovo\\AppData\\Roaming\\nltk_data...\n",
      "[nltk_data]   Package stopwords is already up-to-date!\n"
     ]
    },
    {
     "name": "stdout",
     "output_type": "stream",
     "text": [
      "blackassign0006 Done !\n"
     ]
    },
    {
     "name": "stderr",
     "output_type": "stream",
     "text": [
      "[nltk_data] Downloading package stopwords to\n",
      "[nltk_data]     C:\\Users\\lenovo\\AppData\\Roaming\\nltk_data...\n",
      "[nltk_data]   Package stopwords is already up-to-date!\n"
     ]
    },
    {
     "name": "stdout",
     "output_type": "stream",
     "text": [
      "blackassign0007 Done !\n"
     ]
    },
    {
     "name": "stderr",
     "output_type": "stream",
     "text": [
      "[nltk_data] Downloading package stopwords to\n",
      "[nltk_data]     C:\\Users\\lenovo\\AppData\\Roaming\\nltk_data...\n",
      "[nltk_data]   Package stopwords is already up-to-date!\n"
     ]
    },
    {
     "name": "stdout",
     "output_type": "stream",
     "text": [
      "blackassign0008 Done !\n"
     ]
    },
    {
     "name": "stderr",
     "output_type": "stream",
     "text": [
      "[nltk_data] Downloading package stopwords to\n",
      "[nltk_data]     C:\\Users\\lenovo\\AppData\\Roaming\\nltk_data...\n",
      "[nltk_data]   Package stopwords is already up-to-date!\n"
     ]
    },
    {
     "name": "stdout",
     "output_type": "stream",
     "text": [
      "blackassign0009 Done !\n"
     ]
    },
    {
     "name": "stderr",
     "output_type": "stream",
     "text": [
      "[nltk_data] Downloading package stopwords to\n",
      "[nltk_data]     C:\\Users\\lenovo\\AppData\\Roaming\\nltk_data...\n",
      "[nltk_data]   Package stopwords is already up-to-date!\n"
     ]
    },
    {
     "name": "stdout",
     "output_type": "stream",
     "text": [
      "blackassign0010 Done !\n"
     ]
    },
    {
     "name": "stderr",
     "output_type": "stream",
     "text": [
      "[nltk_data] Downloading package stopwords to\n",
      "[nltk_data]     C:\\Users\\lenovo\\AppData\\Roaming\\nltk_data...\n",
      "[nltk_data]   Package stopwords is already up-to-date!\n"
     ]
    },
    {
     "name": "stdout",
     "output_type": "stream",
     "text": [
      "blackassign0011 Done !\n"
     ]
    },
    {
     "name": "stderr",
     "output_type": "stream",
     "text": [
      "[nltk_data] Downloading package stopwords to\n",
      "[nltk_data]     C:\\Users\\lenovo\\AppData\\Roaming\\nltk_data...\n",
      "[nltk_data]   Package stopwords is already up-to-date!\n"
     ]
    },
    {
     "name": "stdout",
     "output_type": "stream",
     "text": [
      "blackassign0012 Done !\n"
     ]
    },
    {
     "name": "stderr",
     "output_type": "stream",
     "text": [
      "[nltk_data] Downloading package stopwords to\n",
      "[nltk_data]     C:\\Users\\lenovo\\AppData\\Roaming\\nltk_data...\n",
      "[nltk_data]   Package stopwords is already up-to-date!\n"
     ]
    },
    {
     "name": "stdout",
     "output_type": "stream",
     "text": [
      "blackassign0013 Done !\n"
     ]
    },
    {
     "name": "stderr",
     "output_type": "stream",
     "text": [
      "[nltk_data] Downloading package stopwords to\n",
      "[nltk_data]     C:\\Users\\lenovo\\AppData\\Roaming\\nltk_data...\n",
      "[nltk_data]   Package stopwords is already up-to-date!\n"
     ]
    },
    {
     "name": "stdout",
     "output_type": "stream",
     "text": [
      "blackassign0014 Done !\n"
     ]
    },
    {
     "name": "stderr",
     "output_type": "stream",
     "text": [
      "[nltk_data] Downloading package stopwords to\n",
      "[nltk_data]     C:\\Users\\lenovo\\AppData\\Roaming\\nltk_data...\n",
      "[nltk_data]   Package stopwords is already up-to-date!\n"
     ]
    },
    {
     "name": "stdout",
     "output_type": "stream",
     "text": [
      "blackassign0015 Done !\n"
     ]
    },
    {
     "name": "stderr",
     "output_type": "stream",
     "text": [
      "[nltk_data] Downloading package stopwords to\n",
      "[nltk_data]     C:\\Users\\lenovo\\AppData\\Roaming\\nltk_data...\n",
      "[nltk_data]   Package stopwords is already up-to-date!\n"
     ]
    },
    {
     "name": "stdout",
     "output_type": "stream",
     "text": [
      "blackassign0016 Done !\n"
     ]
    },
    {
     "name": "stderr",
     "output_type": "stream",
     "text": [
      "[nltk_data] Downloading package stopwords to\n",
      "[nltk_data]     C:\\Users\\lenovo\\AppData\\Roaming\\nltk_data...\n",
      "[nltk_data]   Package stopwords is already up-to-date!\n"
     ]
    },
    {
     "name": "stdout",
     "output_type": "stream",
     "text": [
      "blackassign0017 Done !\n"
     ]
    },
    {
     "name": "stderr",
     "output_type": "stream",
     "text": [
      "[nltk_data] Downloading package stopwords to\n",
      "[nltk_data]     C:\\Users\\lenovo\\AppData\\Roaming\\nltk_data...\n",
      "[nltk_data]   Package stopwords is already up-to-date!\n"
     ]
    },
    {
     "name": "stdout",
     "output_type": "stream",
     "text": [
      "blackassign0018 Done !\n"
     ]
    },
    {
     "name": "stderr",
     "output_type": "stream",
     "text": [
      "[nltk_data] Downloading package stopwords to\n",
      "[nltk_data]     C:\\Users\\lenovo\\AppData\\Roaming\\nltk_data...\n",
      "[nltk_data]   Package stopwords is already up-to-date!\n"
     ]
    },
    {
     "name": "stdout",
     "output_type": "stream",
     "text": [
      "blackassign0019 Done !\n"
     ]
    },
    {
     "name": "stderr",
     "output_type": "stream",
     "text": [
      "[nltk_data] Downloading package stopwords to\n",
      "[nltk_data]     C:\\Users\\lenovo\\AppData\\Roaming\\nltk_data...\n",
      "[nltk_data]   Package stopwords is already up-to-date!\n"
     ]
    },
    {
     "name": "stdout",
     "output_type": "stream",
     "text": [
      "blackassign0020 Done !\n"
     ]
    },
    {
     "name": "stderr",
     "output_type": "stream",
     "text": [
      "[nltk_data] Downloading package stopwords to\n",
      "[nltk_data]     C:\\Users\\lenovo\\AppData\\Roaming\\nltk_data...\n",
      "[nltk_data]   Package stopwords is already up-to-date!\n"
     ]
    },
    {
     "name": "stdout",
     "output_type": "stream",
     "text": [
      "blackassign0021 Done !\n"
     ]
    },
    {
     "name": "stderr",
     "output_type": "stream",
     "text": [
      "[nltk_data] Downloading package stopwords to\n",
      "[nltk_data]     C:\\Users\\lenovo\\AppData\\Roaming\\nltk_data...\n",
      "[nltk_data]   Package stopwords is already up-to-date!\n"
     ]
    },
    {
     "name": "stdout",
     "output_type": "stream",
     "text": [
      "blackassign0022 Done !\n"
     ]
    },
    {
     "name": "stderr",
     "output_type": "stream",
     "text": [
      "[nltk_data] Downloading package stopwords to\n",
      "[nltk_data]     C:\\Users\\lenovo\\AppData\\Roaming\\nltk_data...\n",
      "[nltk_data]   Package stopwords is already up-to-date!\n"
     ]
    },
    {
     "name": "stdout",
     "output_type": "stream",
     "text": [
      "blackassign0023 Done !\n"
     ]
    },
    {
     "name": "stderr",
     "output_type": "stream",
     "text": [
      "[nltk_data] Downloading package stopwords to\n",
      "[nltk_data]     C:\\Users\\lenovo\\AppData\\Roaming\\nltk_data...\n",
      "[nltk_data]   Package stopwords is already up-to-date!\n"
     ]
    },
    {
     "name": "stdout",
     "output_type": "stream",
     "text": [
      "blackassign0024 Done !\n"
     ]
    },
    {
     "name": "stderr",
     "output_type": "stream",
     "text": [
      "[nltk_data] Downloading package stopwords to\n",
      "[nltk_data]     C:\\Users\\lenovo\\AppData\\Roaming\\nltk_data...\n",
      "[nltk_data]   Package stopwords is already up-to-date!\n"
     ]
    },
    {
     "name": "stdout",
     "output_type": "stream",
     "text": [
      "blackassign0025 Done !\n"
     ]
    },
    {
     "name": "stderr",
     "output_type": "stream",
     "text": [
      "[nltk_data] Downloading package stopwords to\n",
      "[nltk_data]     C:\\Users\\lenovo\\AppData\\Roaming\\nltk_data...\n",
      "[nltk_data]   Package stopwords is already up-to-date!\n"
     ]
    },
    {
     "name": "stdout",
     "output_type": "stream",
     "text": [
      "blackassign0026 Done !\n"
     ]
    },
    {
     "name": "stderr",
     "output_type": "stream",
     "text": [
      "[nltk_data] Downloading package stopwords to\n",
      "[nltk_data]     C:\\Users\\lenovo\\AppData\\Roaming\\nltk_data...\n",
      "[nltk_data]   Package stopwords is already up-to-date!\n"
     ]
    },
    {
     "name": "stdout",
     "output_type": "stream",
     "text": [
      "blackassign0027 Done !\n"
     ]
    },
    {
     "name": "stderr",
     "output_type": "stream",
     "text": [
      "[nltk_data] Downloading package stopwords to\n",
      "[nltk_data]     C:\\Users\\lenovo\\AppData\\Roaming\\nltk_data...\n",
      "[nltk_data]   Package stopwords is already up-to-date!\n"
     ]
    },
    {
     "name": "stdout",
     "output_type": "stream",
     "text": [
      "blackassign0028 Done !\n"
     ]
    },
    {
     "name": "stderr",
     "output_type": "stream",
     "text": [
      "[nltk_data] Downloading package stopwords to\n",
      "[nltk_data]     C:\\Users\\lenovo\\AppData\\Roaming\\nltk_data...\n",
      "[nltk_data]   Package stopwords is already up-to-date!\n"
     ]
    },
    {
     "name": "stdout",
     "output_type": "stream",
     "text": [
      "blackassign0029 Done !\n"
     ]
    },
    {
     "name": "stderr",
     "output_type": "stream",
     "text": [
      "[nltk_data] Downloading package stopwords to\n",
      "[nltk_data]     C:\\Users\\lenovo\\AppData\\Roaming\\nltk_data...\n",
      "[nltk_data]   Package stopwords is already up-to-date!\n"
     ]
    },
    {
     "name": "stdout",
     "output_type": "stream",
     "text": [
      "blackassign0030 Done !\n"
     ]
    },
    {
     "name": "stderr",
     "output_type": "stream",
     "text": [
      "[nltk_data] Downloading package stopwords to\n",
      "[nltk_data]     C:\\Users\\lenovo\\AppData\\Roaming\\nltk_data...\n",
      "[nltk_data]   Package stopwords is already up-to-date!\n"
     ]
    },
    {
     "name": "stdout",
     "output_type": "stream",
     "text": [
      "blackassign0031 Done !\n"
     ]
    },
    {
     "name": "stderr",
     "output_type": "stream",
     "text": [
      "[nltk_data] Downloading package stopwords to\n",
      "[nltk_data]     C:\\Users\\lenovo\\AppData\\Roaming\\nltk_data...\n",
      "[nltk_data]   Package stopwords is already up-to-date!\n"
     ]
    },
    {
     "name": "stdout",
     "output_type": "stream",
     "text": [
      "blackassign0032 Done !\n"
     ]
    },
    {
     "name": "stderr",
     "output_type": "stream",
     "text": [
      "[nltk_data] Downloading package stopwords to\n",
      "[nltk_data]     C:\\Users\\lenovo\\AppData\\Roaming\\nltk_data...\n",
      "[nltk_data]   Package stopwords is already up-to-date!\n"
     ]
    },
    {
     "name": "stdout",
     "output_type": "stream",
     "text": [
      "blackassign0033 Done !\n"
     ]
    },
    {
     "name": "stderr",
     "output_type": "stream",
     "text": [
      "[nltk_data] Downloading package stopwords to\n",
      "[nltk_data]     C:\\Users\\lenovo\\AppData\\Roaming\\nltk_data...\n",
      "[nltk_data]   Package stopwords is already up-to-date!\n"
     ]
    },
    {
     "name": "stdout",
     "output_type": "stream",
     "text": [
      "blackassign0034 Done !\n"
     ]
    },
    {
     "name": "stderr",
     "output_type": "stream",
     "text": [
      "[nltk_data] Downloading package stopwords to\n",
      "[nltk_data]     C:\\Users\\lenovo\\AppData\\Roaming\\nltk_data...\n",
      "[nltk_data]   Package stopwords is already up-to-date!\n",
      "[nltk_data] Downloading package stopwords to\n",
      "[nltk_data]     C:\\Users\\lenovo\\AppData\\Roaming\\nltk_data...\n",
      "[nltk_data]   Package stopwords is already up-to-date!\n"
     ]
    },
    {
     "name": "stdout",
     "output_type": "stream",
     "text": [
      "blackassign0035 Done !\n",
      "blackassign0036 Done !\n"
     ]
    },
    {
     "name": "stderr",
     "output_type": "stream",
     "text": [
      "[nltk_data] Downloading package stopwords to\n",
      "[nltk_data]     C:\\Users\\lenovo\\AppData\\Roaming\\nltk_data...\n",
      "[nltk_data]   Package stopwords is already up-to-date!\n"
     ]
    },
    {
     "name": "stdout",
     "output_type": "stream",
     "text": [
      "blackassign0037 Done !\n"
     ]
    },
    {
     "name": "stderr",
     "output_type": "stream",
     "text": [
      "[nltk_data] Downloading package stopwords to\n",
      "[nltk_data]     C:\\Users\\lenovo\\AppData\\Roaming\\nltk_data...\n",
      "[nltk_data]   Package stopwords is already up-to-date!\n"
     ]
    },
    {
     "name": "stdout",
     "output_type": "stream",
     "text": [
      "blackassign0038 Done !\n"
     ]
    },
    {
     "name": "stderr",
     "output_type": "stream",
     "text": [
      "[nltk_data] Downloading package stopwords to\n",
      "[nltk_data]     C:\\Users\\lenovo\\AppData\\Roaming\\nltk_data...\n",
      "[nltk_data]   Package stopwords is already up-to-date!\n"
     ]
    },
    {
     "name": "stdout",
     "output_type": "stream",
     "text": [
      "blackassign0039 Done !\n"
     ]
    },
    {
     "name": "stderr",
     "output_type": "stream",
     "text": [
      "[nltk_data] Downloading package stopwords to\n",
      "[nltk_data]     C:\\Users\\lenovo\\AppData\\Roaming\\nltk_data...\n",
      "[nltk_data]   Package stopwords is already up-to-date!\n"
     ]
    },
    {
     "name": "stdout",
     "output_type": "stream",
     "text": [
      "blackassign0040 Done !\n"
     ]
    },
    {
     "name": "stderr",
     "output_type": "stream",
     "text": [
      "[nltk_data] Downloading package stopwords to\n",
      "[nltk_data]     C:\\Users\\lenovo\\AppData\\Roaming\\nltk_data...\n",
      "[nltk_data]   Package stopwords is already up-to-date!\n"
     ]
    },
    {
     "name": "stdout",
     "output_type": "stream",
     "text": [
      "blackassign0041 Done !\n"
     ]
    },
    {
     "name": "stderr",
     "output_type": "stream",
     "text": [
      "[nltk_data] Downloading package stopwords to\n",
      "[nltk_data]     C:\\Users\\lenovo\\AppData\\Roaming\\nltk_data...\n",
      "[nltk_data]   Package stopwords is already up-to-date!\n"
     ]
    },
    {
     "name": "stdout",
     "output_type": "stream",
     "text": [
      "blackassign0042 Done !\n"
     ]
    },
    {
     "name": "stderr",
     "output_type": "stream",
     "text": [
      "[nltk_data] Downloading package stopwords to\n",
      "[nltk_data]     C:\\Users\\lenovo\\AppData\\Roaming\\nltk_data...\n",
      "[nltk_data]   Package stopwords is already up-to-date!\n"
     ]
    },
    {
     "name": "stdout",
     "output_type": "stream",
     "text": [
      "blackassign0043 Done !\n"
     ]
    },
    {
     "name": "stderr",
     "output_type": "stream",
     "text": [
      "[nltk_data] Downloading package stopwords to\n",
      "[nltk_data]     C:\\Users\\lenovo\\AppData\\Roaming\\nltk_data...\n",
      "[nltk_data]   Package stopwords is already up-to-date!\n"
     ]
    },
    {
     "name": "stdout",
     "output_type": "stream",
     "text": [
      "blackassign0044 Done !\n"
     ]
    },
    {
     "name": "stderr",
     "output_type": "stream",
     "text": [
      "[nltk_data] Downloading package stopwords to\n",
      "[nltk_data]     C:\\Users\\lenovo\\AppData\\Roaming\\nltk_data...\n",
      "[nltk_data]   Package stopwords is already up-to-date!\n"
     ]
    },
    {
     "name": "stdout",
     "output_type": "stream",
     "text": [
      "blackassign0045 Done !\n"
     ]
    },
    {
     "name": "stderr",
     "output_type": "stream",
     "text": [
      "[nltk_data] Downloading package stopwords to\n",
      "[nltk_data]     C:\\Users\\lenovo\\AppData\\Roaming\\nltk_data...\n",
      "[nltk_data]   Package stopwords is already up-to-date!\n"
     ]
    },
    {
     "name": "stdout",
     "output_type": "stream",
     "text": [
      "blackassign0046 Done !\n"
     ]
    },
    {
     "name": "stderr",
     "output_type": "stream",
     "text": [
      "[nltk_data] Downloading package stopwords to\n",
      "[nltk_data]     C:\\Users\\lenovo\\AppData\\Roaming\\nltk_data...\n",
      "[nltk_data]   Package stopwords is already up-to-date!\n"
     ]
    },
    {
     "name": "stdout",
     "output_type": "stream",
     "text": [
      "blackassign0047 Done !\n"
     ]
    },
    {
     "name": "stderr",
     "output_type": "stream",
     "text": [
      "[nltk_data] Downloading package stopwords to\n",
      "[nltk_data]     C:\\Users\\lenovo\\AppData\\Roaming\\nltk_data...\n",
      "[nltk_data]   Package stopwords is already up-to-date!\n",
      "[nltk_data] Downloading package stopwords to\n",
      "[nltk_data]     C:\\Users\\lenovo\\AppData\\Roaming\\nltk_data...\n",
      "[nltk_data]   Package stopwords is already up-to-date!\n"
     ]
    },
    {
     "name": "stdout",
     "output_type": "stream",
     "text": [
      "blackassign0048 Done !\n",
      "blackassign0049 Done !\n"
     ]
    },
    {
     "name": "stderr",
     "output_type": "stream",
     "text": [
      "[nltk_data] Downloading package stopwords to\n",
      "[nltk_data]     C:\\Users\\lenovo\\AppData\\Roaming\\nltk_data...\n",
      "[nltk_data]   Package stopwords is already up-to-date!\n"
     ]
    },
    {
     "name": "stdout",
     "output_type": "stream",
     "text": [
      "blackassign0050 Done !\n"
     ]
    },
    {
     "name": "stderr",
     "output_type": "stream",
     "text": [
      "[nltk_data] Downloading package stopwords to\n",
      "[nltk_data]     C:\\Users\\lenovo\\AppData\\Roaming\\nltk_data...\n",
      "[nltk_data]   Package stopwords is already up-to-date!\n"
     ]
    },
    {
     "name": "stdout",
     "output_type": "stream",
     "text": [
      "blackassign0051 Done !\n"
     ]
    },
    {
     "name": "stderr",
     "output_type": "stream",
     "text": [
      "[nltk_data] Downloading package stopwords to\n",
      "[nltk_data]     C:\\Users\\lenovo\\AppData\\Roaming\\nltk_data...\n",
      "[nltk_data]   Package stopwords is already up-to-date!\n"
     ]
    },
    {
     "name": "stdout",
     "output_type": "stream",
     "text": [
      "blackassign0052 Done !\n"
     ]
    },
    {
     "name": "stderr",
     "output_type": "stream",
     "text": [
      "[nltk_data] Downloading package stopwords to\n",
      "[nltk_data]     C:\\Users\\lenovo\\AppData\\Roaming\\nltk_data...\n",
      "[nltk_data]   Package stopwords is already up-to-date!\n"
     ]
    },
    {
     "name": "stdout",
     "output_type": "stream",
     "text": [
      "blackassign0053 Done !\n"
     ]
    },
    {
     "name": "stderr",
     "output_type": "stream",
     "text": [
      "[nltk_data] Downloading package stopwords to\n",
      "[nltk_data]     C:\\Users\\lenovo\\AppData\\Roaming\\nltk_data...\n",
      "[nltk_data]   Package stopwords is already up-to-date!\n"
     ]
    },
    {
     "name": "stdout",
     "output_type": "stream",
     "text": [
      "blackassign0054 Done !\n"
     ]
    },
    {
     "name": "stderr",
     "output_type": "stream",
     "text": [
      "[nltk_data] Downloading package stopwords to\n",
      "[nltk_data]     C:\\Users\\lenovo\\AppData\\Roaming\\nltk_data...\n",
      "[nltk_data]   Package stopwords is already up-to-date!\n"
     ]
    },
    {
     "name": "stdout",
     "output_type": "stream",
     "text": [
      "blackassign0055 Done !\n"
     ]
    },
    {
     "name": "stderr",
     "output_type": "stream",
     "text": [
      "[nltk_data] Downloading package stopwords to\n",
      "[nltk_data]     C:\\Users\\lenovo\\AppData\\Roaming\\nltk_data...\n",
      "[nltk_data]   Package stopwords is already up-to-date!\n"
     ]
    },
    {
     "name": "stdout",
     "output_type": "stream",
     "text": [
      "blackassign0056 Done !\n"
     ]
    },
    {
     "name": "stderr",
     "output_type": "stream",
     "text": [
      "[nltk_data] Downloading package stopwords to\n",
      "[nltk_data]     C:\\Users\\lenovo\\AppData\\Roaming\\nltk_data...\n",
      "[nltk_data]   Package stopwords is already up-to-date!\n"
     ]
    },
    {
     "name": "stdout",
     "output_type": "stream",
     "text": [
      "blackassign0057 Done !\n"
     ]
    },
    {
     "name": "stderr",
     "output_type": "stream",
     "text": [
      "[nltk_data] Downloading package stopwords to\n",
      "[nltk_data]     C:\\Users\\lenovo\\AppData\\Roaming\\nltk_data...\n",
      "[nltk_data]   Package stopwords is already up-to-date!\n"
     ]
    },
    {
     "name": "stdout",
     "output_type": "stream",
     "text": [
      "blackassign0058 Done !\n"
     ]
    },
    {
     "name": "stderr",
     "output_type": "stream",
     "text": [
      "[nltk_data] Downloading package stopwords to\n",
      "[nltk_data]     C:\\Users\\lenovo\\AppData\\Roaming\\nltk_data...\n",
      "[nltk_data]   Package stopwords is already up-to-date!\n"
     ]
    },
    {
     "name": "stdout",
     "output_type": "stream",
     "text": [
      "blackassign0059 Done !\n"
     ]
    },
    {
     "name": "stderr",
     "output_type": "stream",
     "text": [
      "[nltk_data] Downloading package stopwords to\n",
      "[nltk_data]     C:\\Users\\lenovo\\AppData\\Roaming\\nltk_data...\n",
      "[nltk_data]   Package stopwords is already up-to-date!\n"
     ]
    },
    {
     "name": "stdout",
     "output_type": "stream",
     "text": [
      "blackassign0060 Done !\n"
     ]
    },
    {
     "name": "stderr",
     "output_type": "stream",
     "text": [
      "[nltk_data] Downloading package stopwords to\n",
      "[nltk_data]     C:\\Users\\lenovo\\AppData\\Roaming\\nltk_data...\n",
      "[nltk_data]   Package stopwords is already up-to-date!\n"
     ]
    },
    {
     "name": "stdout",
     "output_type": "stream",
     "text": [
      "blackassign0061 Done !\n"
     ]
    },
    {
     "name": "stderr",
     "output_type": "stream",
     "text": [
      "[nltk_data] Downloading package stopwords to\n",
      "[nltk_data]     C:\\Users\\lenovo\\AppData\\Roaming\\nltk_data...\n",
      "[nltk_data]   Package stopwords is already up-to-date!\n"
     ]
    },
    {
     "name": "stdout",
     "output_type": "stream",
     "text": [
      "blackassign0062 Done !\n"
     ]
    },
    {
     "name": "stderr",
     "output_type": "stream",
     "text": [
      "[nltk_data] Downloading package stopwords to\n",
      "[nltk_data]     C:\\Users\\lenovo\\AppData\\Roaming\\nltk_data...\n",
      "[nltk_data]   Package stopwords is already up-to-date!\n"
     ]
    },
    {
     "name": "stdout",
     "output_type": "stream",
     "text": [
      "blackassign0063 Done !\n"
     ]
    },
    {
     "name": "stderr",
     "output_type": "stream",
     "text": [
      "[nltk_data] Downloading package stopwords to\n",
      "[nltk_data]     C:\\Users\\lenovo\\AppData\\Roaming\\nltk_data...\n",
      "[nltk_data]   Package stopwords is already up-to-date!\n"
     ]
    },
    {
     "name": "stdout",
     "output_type": "stream",
     "text": [
      "blackassign0064 Done !\n"
     ]
    },
    {
     "name": "stderr",
     "output_type": "stream",
     "text": [
      "[nltk_data] Downloading package stopwords to\n",
      "[nltk_data]     C:\\Users\\lenovo\\AppData\\Roaming\\nltk_data...\n",
      "[nltk_data]   Package stopwords is already up-to-date!\n"
     ]
    },
    {
     "name": "stdout",
     "output_type": "stream",
     "text": [
      "blackassign0065 Done !\n"
     ]
    },
    {
     "name": "stderr",
     "output_type": "stream",
     "text": [
      "[nltk_data] Downloading package stopwords to\n",
      "[nltk_data]     C:\\Users\\lenovo\\AppData\\Roaming\\nltk_data...\n",
      "[nltk_data]   Package stopwords is already up-to-date!\n"
     ]
    },
    {
     "name": "stdout",
     "output_type": "stream",
     "text": [
      "blackassign0066 Done !\n"
     ]
    },
    {
     "name": "stderr",
     "output_type": "stream",
     "text": [
      "[nltk_data] Downloading package stopwords to\n",
      "[nltk_data]     C:\\Users\\lenovo\\AppData\\Roaming\\nltk_data...\n",
      "[nltk_data]   Package stopwords is already up-to-date!\n"
     ]
    },
    {
     "name": "stdout",
     "output_type": "stream",
     "text": [
      "blackassign0067 Done !\n"
     ]
    },
    {
     "name": "stderr",
     "output_type": "stream",
     "text": [
      "[nltk_data] Downloading package stopwords to\n",
      "[nltk_data]     C:\\Users\\lenovo\\AppData\\Roaming\\nltk_data...\n",
      "[nltk_data]   Package stopwords is already up-to-date!\n"
     ]
    },
    {
     "name": "stdout",
     "output_type": "stream",
     "text": [
      "blackassign0068 Done !\n"
     ]
    },
    {
     "name": "stderr",
     "output_type": "stream",
     "text": [
      "[nltk_data] Downloading package stopwords to\n",
      "[nltk_data]     C:\\Users\\lenovo\\AppData\\Roaming\\nltk_data...\n",
      "[nltk_data]   Package stopwords is already up-to-date!\n"
     ]
    },
    {
     "name": "stdout",
     "output_type": "stream",
     "text": [
      "blackassign0069 Done !\n"
     ]
    },
    {
     "name": "stderr",
     "output_type": "stream",
     "text": [
      "[nltk_data] Downloading package stopwords to\n",
      "[nltk_data]     C:\\Users\\lenovo\\AppData\\Roaming\\nltk_data...\n",
      "[nltk_data]   Package stopwords is already up-to-date!\n"
     ]
    },
    {
     "name": "stdout",
     "output_type": "stream",
     "text": [
      "blackassign0070 Done !\n"
     ]
    },
    {
     "name": "stderr",
     "output_type": "stream",
     "text": [
      "[nltk_data] Downloading package stopwords to\n",
      "[nltk_data]     C:\\Users\\lenovo\\AppData\\Roaming\\nltk_data...\n",
      "[nltk_data]   Package stopwords is already up-to-date!\n"
     ]
    },
    {
     "name": "stdout",
     "output_type": "stream",
     "text": [
      "blackassign0071 Done !\n"
     ]
    },
    {
     "name": "stderr",
     "output_type": "stream",
     "text": [
      "[nltk_data] Downloading package stopwords to\n",
      "[nltk_data]     C:\\Users\\lenovo\\AppData\\Roaming\\nltk_data...\n",
      "[nltk_data]   Package stopwords is already up-to-date!\n"
     ]
    },
    {
     "name": "stdout",
     "output_type": "stream",
     "text": [
      "blackassign0072 Done !\n"
     ]
    },
    {
     "name": "stderr",
     "output_type": "stream",
     "text": [
      "[nltk_data] Downloading package stopwords to\n",
      "[nltk_data]     C:\\Users\\lenovo\\AppData\\Roaming\\nltk_data...\n",
      "[nltk_data]   Package stopwords is already up-to-date!\n"
     ]
    },
    {
     "name": "stdout",
     "output_type": "stream",
     "text": [
      "blackassign0073 Done !\n"
     ]
    },
    {
     "name": "stderr",
     "output_type": "stream",
     "text": [
      "[nltk_data] Downloading package stopwords to\n",
      "[nltk_data]     C:\\Users\\lenovo\\AppData\\Roaming\\nltk_data...\n",
      "[nltk_data]   Package stopwords is already up-to-date!\n"
     ]
    },
    {
     "name": "stdout",
     "output_type": "stream",
     "text": [
      "blackassign0074 Done !\n"
     ]
    },
    {
     "name": "stderr",
     "output_type": "stream",
     "text": [
      "[nltk_data] Downloading package stopwords to\n",
      "[nltk_data]     C:\\Users\\lenovo\\AppData\\Roaming\\nltk_data...\n",
      "[nltk_data]   Package stopwords is already up-to-date!\n"
     ]
    },
    {
     "name": "stdout",
     "output_type": "stream",
     "text": [
      "blackassign0075 Done !\n"
     ]
    },
    {
     "name": "stderr",
     "output_type": "stream",
     "text": [
      "[nltk_data] Downloading package stopwords to\n",
      "[nltk_data]     C:\\Users\\lenovo\\AppData\\Roaming\\nltk_data...\n",
      "[nltk_data]   Package stopwords is already up-to-date!\n"
     ]
    },
    {
     "name": "stdout",
     "output_type": "stream",
     "text": [
      "blackassign0076 Done !\n"
     ]
    },
    {
     "name": "stderr",
     "output_type": "stream",
     "text": [
      "[nltk_data] Downloading package stopwords to\n",
      "[nltk_data]     C:\\Users\\lenovo\\AppData\\Roaming\\nltk_data...\n",
      "[nltk_data]   Package stopwords is already up-to-date!\n"
     ]
    },
    {
     "name": "stdout",
     "output_type": "stream",
     "text": [
      "blackassign0077 Done !\n"
     ]
    },
    {
     "name": "stderr",
     "output_type": "stream",
     "text": [
      "[nltk_data] Downloading package stopwords to\n",
      "[nltk_data]     C:\\Users\\lenovo\\AppData\\Roaming\\nltk_data...\n",
      "[nltk_data]   Package stopwords is already up-to-date!\n"
     ]
    },
    {
     "name": "stdout",
     "output_type": "stream",
     "text": [
      "blackassign0078 Done !\n"
     ]
    },
    {
     "name": "stderr",
     "output_type": "stream",
     "text": [
      "[nltk_data] Downloading package stopwords to\n",
      "[nltk_data]     C:\\Users\\lenovo\\AppData\\Roaming\\nltk_data...\n",
      "[nltk_data]   Package stopwords is already up-to-date!\n"
     ]
    },
    {
     "name": "stdout",
     "output_type": "stream",
     "text": [
      "blackassign0079 Done !\n"
     ]
    },
    {
     "name": "stderr",
     "output_type": "stream",
     "text": [
      "[nltk_data] Downloading package stopwords to\n",
      "[nltk_data]     C:\\Users\\lenovo\\AppData\\Roaming\\nltk_data...\n",
      "[nltk_data]   Package stopwords is already up-to-date!\n"
     ]
    },
    {
     "name": "stdout",
     "output_type": "stream",
     "text": [
      "blackassign0080 Done !\n"
     ]
    },
    {
     "name": "stderr",
     "output_type": "stream",
     "text": [
      "[nltk_data] Downloading package stopwords to\n",
      "[nltk_data]     C:\\Users\\lenovo\\AppData\\Roaming\\nltk_data...\n",
      "[nltk_data]   Package stopwords is already up-to-date!\n"
     ]
    },
    {
     "name": "stdout",
     "output_type": "stream",
     "text": [
      "blackassign0081 Done !\n"
     ]
    },
    {
     "name": "stderr",
     "output_type": "stream",
     "text": [
      "[nltk_data] Downloading package stopwords to\n",
      "[nltk_data]     C:\\Users\\lenovo\\AppData\\Roaming\\nltk_data...\n",
      "[nltk_data]   Package stopwords is already up-to-date!\n"
     ]
    },
    {
     "name": "stdout",
     "output_type": "stream",
     "text": [
      "blackassign0082 Done !\n"
     ]
    },
    {
     "name": "stderr",
     "output_type": "stream",
     "text": [
      "[nltk_data] Downloading package stopwords to\n",
      "[nltk_data]     C:\\Users\\lenovo\\AppData\\Roaming\\nltk_data...\n",
      "[nltk_data]   Package stopwords is already up-to-date!\n"
     ]
    },
    {
     "name": "stdout",
     "output_type": "stream",
     "text": [
      "blackassign0083 Done !\n"
     ]
    },
    {
     "name": "stderr",
     "output_type": "stream",
     "text": [
      "[nltk_data] Downloading package stopwords to\n",
      "[nltk_data]     C:\\Users\\lenovo\\AppData\\Roaming\\nltk_data...\n",
      "[nltk_data]   Package stopwords is already up-to-date!\n"
     ]
    },
    {
     "name": "stdout",
     "output_type": "stream",
     "text": [
      "blackassign0084 Done !\n"
     ]
    },
    {
     "name": "stderr",
     "output_type": "stream",
     "text": [
      "[nltk_data] Downloading package stopwords to\n",
      "[nltk_data]     C:\\Users\\lenovo\\AppData\\Roaming\\nltk_data...\n",
      "[nltk_data]   Package stopwords is already up-to-date!\n"
     ]
    },
    {
     "name": "stdout",
     "output_type": "stream",
     "text": [
      "blackassign0085 Done !\n"
     ]
    },
    {
     "name": "stderr",
     "output_type": "stream",
     "text": [
      "[nltk_data] Downloading package stopwords to\n",
      "[nltk_data]     C:\\Users\\lenovo\\AppData\\Roaming\\nltk_data...\n",
      "[nltk_data]   Package stopwords is already up-to-date!\n"
     ]
    },
    {
     "name": "stdout",
     "output_type": "stream",
     "text": [
      "blackassign0086 Done !\n"
     ]
    },
    {
     "name": "stderr",
     "output_type": "stream",
     "text": [
      "[nltk_data] Downloading package stopwords to\n",
      "[nltk_data]     C:\\Users\\lenovo\\AppData\\Roaming\\nltk_data...\n",
      "[nltk_data]   Package stopwords is already up-to-date!\n"
     ]
    },
    {
     "name": "stdout",
     "output_type": "stream",
     "text": [
      "blackassign0087 Done !\n"
     ]
    },
    {
     "name": "stderr",
     "output_type": "stream",
     "text": [
      "[nltk_data] Downloading package stopwords to\n",
      "[nltk_data]     C:\\Users\\lenovo\\AppData\\Roaming\\nltk_data...\n",
      "[nltk_data]   Package stopwords is already up-to-date!\n"
     ]
    },
    {
     "name": "stdout",
     "output_type": "stream",
     "text": [
      "blackassign0088 Done !\n"
     ]
    },
    {
     "name": "stderr",
     "output_type": "stream",
     "text": [
      "[nltk_data] Downloading package stopwords to\n",
      "[nltk_data]     C:\\Users\\lenovo\\AppData\\Roaming\\nltk_data...\n",
      "[nltk_data]   Package stopwords is already up-to-date!\n"
     ]
    },
    {
     "name": "stdout",
     "output_type": "stream",
     "text": [
      "blackassign0089 Done !\n"
     ]
    },
    {
     "name": "stderr",
     "output_type": "stream",
     "text": [
      "[nltk_data] Downloading package stopwords to\n",
      "[nltk_data]     C:\\Users\\lenovo\\AppData\\Roaming\\nltk_data...\n",
      "[nltk_data]   Package stopwords is already up-to-date!\n"
     ]
    },
    {
     "name": "stdout",
     "output_type": "stream",
     "text": [
      "blackassign0090 Done !\n"
     ]
    },
    {
     "name": "stderr",
     "output_type": "stream",
     "text": [
      "[nltk_data] Downloading package stopwords to\n",
      "[nltk_data]     C:\\Users\\lenovo\\AppData\\Roaming\\nltk_data...\n",
      "[nltk_data]   Package stopwords is already up-to-date!\n"
     ]
    },
    {
     "name": "stdout",
     "output_type": "stream",
     "text": [
      "blackassign0091 Done !\n"
     ]
    },
    {
     "name": "stderr",
     "output_type": "stream",
     "text": [
      "[nltk_data] Downloading package stopwords to\n",
      "[nltk_data]     C:\\Users\\lenovo\\AppData\\Roaming\\nltk_data...\n",
      "[nltk_data]   Package stopwords is already up-to-date!\n"
     ]
    },
    {
     "name": "stdout",
     "output_type": "stream",
     "text": [
      "blackassign0092 Done !\n"
     ]
    },
    {
     "name": "stderr",
     "output_type": "stream",
     "text": [
      "[nltk_data] Downloading package stopwords to\n",
      "[nltk_data]     C:\\Users\\lenovo\\AppData\\Roaming\\nltk_data...\n",
      "[nltk_data]   Package stopwords is already up-to-date!\n"
     ]
    },
    {
     "name": "stdout",
     "output_type": "stream",
     "text": [
      "blackassign0093 Done !\n"
     ]
    },
    {
     "name": "stderr",
     "output_type": "stream",
     "text": [
      "[nltk_data] Downloading package stopwords to\n",
      "[nltk_data]     C:\\Users\\lenovo\\AppData\\Roaming\\nltk_data...\n",
      "[nltk_data]   Package stopwords is already up-to-date!\n"
     ]
    },
    {
     "name": "stdout",
     "output_type": "stream",
     "text": [
      "blackassign0094 Done !\n"
     ]
    },
    {
     "name": "stderr",
     "output_type": "stream",
     "text": [
      "[nltk_data] Downloading package stopwords to\n",
      "[nltk_data]     C:\\Users\\lenovo\\AppData\\Roaming\\nltk_data...\n",
      "[nltk_data]   Package stopwords is already up-to-date!\n"
     ]
    },
    {
     "name": "stdout",
     "output_type": "stream",
     "text": [
      "blackassign0095 Done !\n"
     ]
    },
    {
     "name": "stderr",
     "output_type": "stream",
     "text": [
      "[nltk_data] Downloading package stopwords to\n",
      "[nltk_data]     C:\\Users\\lenovo\\AppData\\Roaming\\nltk_data...\n",
      "[nltk_data]   Package stopwords is already up-to-date!\n"
     ]
    },
    {
     "name": "stdout",
     "output_type": "stream",
     "text": [
      "blackassign0096 Done !\n"
     ]
    },
    {
     "name": "stderr",
     "output_type": "stream",
     "text": [
      "[nltk_data] Downloading package stopwords to\n",
      "[nltk_data]     C:\\Users\\lenovo\\AppData\\Roaming\\nltk_data...\n",
      "[nltk_data]   Package stopwords is already up-to-date!\n"
     ]
    },
    {
     "name": "stdout",
     "output_type": "stream",
     "text": [
      "blackassign0097 Done !\n"
     ]
    },
    {
     "name": "stderr",
     "output_type": "stream",
     "text": [
      "[nltk_data] Downloading package stopwords to\n",
      "[nltk_data]     C:\\Users\\lenovo\\AppData\\Roaming\\nltk_data...\n",
      "[nltk_data]   Package stopwords is already up-to-date!\n"
     ]
    },
    {
     "name": "stdout",
     "output_type": "stream",
     "text": [
      "blackassign0098 Done !\n"
     ]
    },
    {
     "name": "stderr",
     "output_type": "stream",
     "text": [
      "[nltk_data] Downloading package stopwords to\n",
      "[nltk_data]     C:\\Users\\lenovo\\AppData\\Roaming\\nltk_data...\n",
      "[nltk_data]   Package stopwords is already up-to-date!\n"
     ]
    },
    {
     "name": "stdout",
     "output_type": "stream",
     "text": [
      "blackassign0099 Done !\n"
     ]
    },
    {
     "name": "stderr",
     "output_type": "stream",
     "text": [
      "[nltk_data] Downloading package stopwords to\n",
      "[nltk_data]     C:\\Users\\lenovo\\AppData\\Roaming\\nltk_data...\n",
      "[nltk_data]   Package stopwords is already up-to-date!\n"
     ]
    },
    {
     "name": "stdout",
     "output_type": "stream",
     "text": [
      "blackassign0100 Done !\n"
     ]
    }
   ],
   "source": [
    "# %%\n",
    "#To Run the code save the code ,\"Inpute.xlsx\" ,MasterDictionary,StopWords in same folder#\n",
    "#The code will genarate URL_ID.txt for each URL id and save it in same directory \n",
    "#Output data structure.xlsx file will be genarated in same directory\n",
    "\n",
    "\n",
    "#My approach is to get data and sub set it in small set to begin with after gathering appropriate data we will build \n",
    "#function to calculate each feature we want to extract\n",
    "# *Note* I did initial testing on small set of given data to get my logic correct \n",
    "\n",
    "\n",
    "#First thing we have to extract the data from given file \"Inpute.xlsx\" as input file to extract the URLs and URL_IDs\n",
    "#save these in respective list\n",
    "\n",
    "#Import required libraries  \n",
    "import requests\n",
    "import nltk\n",
    "import numpy as np \n",
    "from nltk.sentiment.vader import SentimentIntensityAnalyzer \n",
    "from tqdm.notebook import tqdm\n",
    "from nltk.corpus import stopwords\n",
    "import string\n",
    "# Download NLTK stopwords\n",
    "nltk.download('stopwords')\n",
    "from nltk.corpus import stopwords\n",
    "nltk.download('stopwords')\n",
    "from nltk.corpus import stopwords\n",
    "nltk.download(\"vader_lexicon\")\n",
    "import os  \n",
    "import re            \n",
    "sia = SentimentIntensityAnalyzer()\n",
    "from bs4 import BeautifulSoup         #Using BeautifulSoup to scrap the text\n",
    "import pandas as pd\n",
    "\n",
    "df = pd.read_excel('Input.xlsx')\n",
    "\n",
    "url_list = df['URL'].tolist()\n",
    "url_id = df['URL_ID'].tolist()\n",
    "\n",
    "#Function to scrap the URL\n",
    "article_title=''\n",
    "article_text=''\n",
    "extracted_text=[]\n",
    "def extract_text_from_url(url):\n",
    "        res = requests.get(url)\n",
    "        html_page = res.content\n",
    "\n",
    "        soup = BeautifulSoup(html_page, 'html.parser')\n",
    "        article_title = soup.title\n",
    "        paragraphs = soup.find_all('p')\n",
    "        article_text = ' '.join(p.text for p in paragraphs)\n",
    "        text = str(article_title)+str(article_text)\n",
    "        return text \n",
    "        # Inside the loop\n",
    "      \n",
    "\n",
    "#Extract the text from url\n",
    "for url in url_list:\n",
    "    extracted_text = extract_text_from_url(url)\n",
    "     \n",
    "\n",
    "\n",
    "\n",
    "#Save data from input file\n",
    "def save_text_to_file(text, filename):\n",
    "    with open(filename, 'w', encoding='utf-8') as file:\n",
    "        file.write(str(text))\n",
    "\n",
    "for i, url in enumerate(url_list):\n",
    "    id=url_list[i]\n",
    "    extracted_text = extract_text_from_url(url)\n",
    "    #print(extracted_text)\n",
    "    save_text_to_file(extracted_text, f'{url_id[i]}.txt')\n",
    "    print(url_id[i]+' Is Genarated in same folder !')\n",
    "\n",
    "#Import positive and negative words from given dictionaries \n",
    "with open('MasterDictionary/negative-words.txt') as f :\n",
    "    neg_word = f.read().splitlines()\n",
    "\n",
    "with open('MasterDictionary/positive-words.txt') as f :\n",
    "    pos_word = f.read().splitlines()\n",
    "\n",
    "#Setup all inicially null varieables\n",
    "res = {}\n",
    "positive_score = {}\n",
    "negative_score = {}\n",
    "polarity_score = {}\n",
    "subjectivity_score ={}\n",
    "avgsen ={}\n",
    "complex_word_count = {}\n",
    "Fog_Index={}\n",
    "Avg_num_word_per_sen={}\n",
    "Per_comp_word={}\n",
    "clean_word_count ={}\n",
    "SWP={}\n",
    "Total_pronoun_counts={}\n",
    "Average_Word_Length={}\n",
    "pos_score = 0\n",
    "neg_score = 0\n",
    "comp_count = 0\n",
    "path =\"StopWords\"       #Import Stopwolds file names\n",
    "stop_list = os.listdir(path)\n",
    "stop_list\n",
    "\n",
    "#Polarity function\n",
    "def pol_score(pos_score, neg_score):\n",
    "  # Calculate the polarity score\n",
    "  pol = (pos_score - neg_score) / ((pos_score + neg_score) + 0.000001)\n",
    "  # Return the polarity score\n",
    "  return pol\n",
    "\n",
    "#Subjectivity Function\n",
    "def subjectivity(pos_score,neg_score):\n",
    "    sub =  (pos_score + neg_score) / (len(clean_text) + 0.000001)\n",
    "    return sub\n",
    "\n",
    "# Define the average sentence length function\n",
    "def averageSentence(text):\n",
    "    # Split the text into sentences\n",
    "    sentences = nltk.sent_tokenize(text)\n",
    "    # Get the number of sentences\n",
    "    num_sentences = len(sentences)\n",
    "    # Initialize a variable for the number of words\n",
    "    num_words = 0\n",
    "    # Loop through the sentences and count the words\n",
    "    for sentence in sentences:\n",
    "        # Split the sentence into words\n",
    "        words = sentence.split()\n",
    "        # Get the number of words in the sentence\n",
    "        num_words += len(words)\n",
    "    # Calculate the average sentence length\n",
    "    average = num_words / num_sentences\n",
    "    # Return the average sentence length\n",
    "    return average\n",
    "\n",
    "#Complex Word Count\n",
    "def count_complex_words(text):\n",
    "    d = dict();\n",
    "    # Initialize the count to zero\n",
    "    count = 0\n",
    "    # Split the text into words by whitespace\n",
    "    words = text.split()\n",
    "    # Loop through each word\n",
    "    for word in words:\n",
    "            # Remove any punctuation from the word\n",
    "            word = word.strip(\". , ? ! : ; ' \\\" ( ) [ ] { }\")\n",
    "            # Convert the word to lowercase\n",
    "            word = word.lower()\n",
    "            # Count the number of vowels in the word\n",
    "            vowels = \"aeiouy\"\n",
    "            vowel_count = 0\n",
    "            for letter in word:\n",
    "                if letter in vowels:\n",
    "                    vowel_count += 1\n",
    "            # Subtract any silent vowels, such as the final 'e'\n",
    "            if word.endswith(\"e\"):\n",
    "                vowel_count -= 1\n",
    "            # Add one if the word ends with a vowel followed by a consonant\n",
    "            if len(word) > 2 and word[-2] in vowels and word[-1] not in vowels:\n",
    "                vowel_count += 1\n",
    "            # Divide the vowel count by 2 to get the number of syllables\n",
    "            syllable_count = vowel_count // 2\n",
    "            # If the word has more than 3 syllables, it is a complex word\n",
    "            if syllable_count > 1:\n",
    "                    count += 1\n",
    "                \n",
    "        # Return the count of complex words\n",
    "    return count\n",
    "\n",
    "#Percentage of complex word function\n",
    "def Percentage_complex_word(text):\n",
    "    #print(text)\n",
    "    sentences = nltk.sent_tokenize(text)\n",
    "        # Get the number of sentences\n",
    "    num_sentences = len(sentences)\n",
    "        # Initialize a variable for the number of words\n",
    "    num_words = 0\n",
    "        # Loop through the sentences and count the words\n",
    "    for sentence in sentences:\n",
    "        # Split the sentence into words\n",
    "        words = sentence.split()\n",
    "        # Get the number of words in the sentence\n",
    "        num_words += len(words)\n",
    "    per_comp_word = count_complex_words(text) / num_words\n",
    "    per_comp_word = per_comp_word*100\n",
    "    fog_index = 0.4* (avg_sen + per_comp_word)\n",
    "    avg_num_word_per_sen = num_words/num_sentences\n",
    "    return [per_comp_word,fog_index,avg_num_word_per_sen] \n",
    "\n",
    "#Clean text for word counting\n",
    "def clean(text):\n",
    "    # Download NLTK stopwords if not already downloaded\n",
    "    nltk.download('stopwords')\n",
    "    \n",
    "    # Get the list of English stopwords\n",
    "    stop_words = set(stopwords.words('english'))\n",
    "    \n",
    "    # Tokenize the input text into words\n",
    "    words = text.split()\n",
    "    \n",
    "    # Remove punctuation and filter out stopwords\n",
    "    cleaned_words = [word.strip(string.punctuation) for word in words if word.lower() not in stop_words]\n",
    "    cleaned_words_count =len(cleaned_words)\n",
    "    return cleaned_words_count\n",
    "\n",
    "#Count Yllable function\n",
    "def count_syllables(word):\n",
    "  # Convert the word to lowercase\n",
    "  word = word.lower()\n",
    "  # Initialize the syllable count to zero\n",
    "  syllables = 0\n",
    "  # Define the vowels\n",
    "  vowels = \"aeiouy\"\n",
    "  # Loop through each letter in the word\n",
    "  for i in range(len(word)):\n",
    "    # If the letter is a vowel\n",
    "    if word[i] in vowels:\n",
    "      # Increment the syllable count\n",
    "      syllables += 1\n",
    "      # If the letter is the last one and it is 's'\n",
    "      if i == len(word) - 1 and word[i-1] == 'e' and word[i] == 's':\n",
    "        # Decrement the syllable count\n",
    "        syllables -= 1\n",
    "      # If the letter is the last one and it is 'd'\n",
    "      if i == len(word) - 1 and word[i-1] == 'e' and word[i] == 'd':\n",
    "        # Decrement the syllable count\n",
    "        syllables -= 1\n",
    "      # If the letter is not the first one and the previous letter is also a vowel\n",
    "      if i>0 and word[i-1] in vowels:\n",
    "        # Decrement the syllable count\n",
    "        syllables -= 1\n",
    "  # If the syllable count is zero, set it to one\n",
    "  if syllables == 0:\n",
    "    syllables = 1\n",
    "  # Return the syllable count per word \n",
    "    # Return the syllable count\n",
    "  return syllables\n",
    "\n",
    "#Syllable Count Per Word\n",
    "# Define a function to count the syllables in each word of a text\n",
    "def count_syllables_per_word(text):\n",
    "  # Split the text into words by whitespace\n",
    "  words = text.lower().split()\n",
    "  # Initialize an empty dictionary to store the word-syllable pairs\n",
    "  word_syllables = {}\n",
    "  # Loop through each word in the text\n",
    "  for word in words:\n",
    "    # Remove any punctuation from the word\n",
    "    word = word.strip(\",.!?;:\")\n",
    "    # Count the syllables in the word\n",
    "    syllables = count_syllables(word)\n",
    "    # Add the word-syllable pair to the dictionary\n",
    "    word_syllables[word] = syllables\n",
    "    syll_per_word = sum(word_syllables.values())/num_words\n",
    "  return syll_per_word\n",
    "\n",
    "# Define a function to count the personal pronouns in a text\n",
    "def count_personal_pronouns(text):\n",
    "  # Convert the text to lowercase\n",
    "  # Define the personal pronouns\n",
    "  pronouns = [\"I\", \"we\", \"my\", \"ours\", \"us\"]\n",
    "  # Initialize an empty dictionary to store the pronoun-count pairs\n",
    "  pronoun_counts = {}\n",
    "  # Loop through each pronoun\n",
    "  for pronoun in pronouns:\n",
    "    # Use regex to find the occurrences of the pronoun in the text\n",
    "    # Use word boundaries to avoid matching partial words\n",
    "    # Use negative lookahead to exclude the country name US\n",
    "    matches = re.findall(r\"\\b\" + pronoun + r\"\\b(?!-?US\\b)\" , text)\n",
    "    # Count the number of matches\n",
    "    count = len(matches)\n",
    "    # Add the pronoun-count pair to the dictionary\n",
    "    pronoun_counts[pronoun] = count        #personal pronoun count is saved in dictionary name pronoun_count\n",
    "  pp = sum(dict.values(pronoun_counts))\n",
    "  # Return the dictionary\n",
    "  return pp\n",
    "\n",
    "\n",
    "# Define a function to calculate the average word length in a text\n",
    "def average_word_length(text):\n",
    "  # Split the text into words by whitespace\n",
    "  words = text.split()\n",
    "  # Get the number of words in the text\n",
    "  num_words = len(words)\n",
    "  # Initialize the total number of characters to zero\n",
    "  total_chars = 0\n",
    "  # Loop through each word in the text\n",
    "  for word in words:\n",
    "    # Remove any punctuation from the word\n",
    "    word = word.strip(\",.!?;:\")\n",
    "    # Add the length of the word to the total number of characters\n",
    "    total_chars += len(word)\n",
    "  # Calculate the average word length by dividing the total number of characters by the number of words\n",
    "  average = total_chars / num_words\n",
    "  # Return the average word length\n",
    "  return average\n",
    "\n",
    "#Loop to read Extracted data then send them to require functions to create Output Data Structure.xlsx in given directory\n",
    "for i,url in enumerate(url_list):       \n",
    "    file = open(f'{url_id[i]}.txt' , encoding=\"utf8\")\n",
    "    text = file.read()\n",
    "\n",
    "    for j ,sl in enumerate(stop_list) :\n",
    "            with open(f'{stop_list[j]}') as f:\n",
    "                stopwords = f.read().splitlines() # Contains \"and\" and \"or\" on different lines\n",
    "            tokens = text.split() # Split into list of words\n",
    "            for word in tokens: \n",
    "                if word.lower() in stopwords: # If word in stopwords remove it\n",
    "                    tokens.remove(word)\n",
    "            clean_text = \" \".join(word for word in tokens) # Join words into a string\n",
    "\n",
    "\n",
    "     #   with open(\"og_text{i}\", 'w', encoding='utf-8') as file:\n",
    "     #           file.write(str(text))\n",
    "     #    with open(\"clean_text\", 'w', encoding='utf-8') as file:\n",
    "     #           file.write(str(clean_text))\n",
    "\n",
    "        #pos_word\n",
    "            for word in tokens :\n",
    "                if word.lower() in pos_word : pos_score += 1        #Check for positive word in dictionary\n",
    "               \n",
    "        #print(word)\n",
    "            for word in tokens :\n",
    "                if word.lower() in neg_word :                       #Check for negative word in dictionary\n",
    "                    neg_score -= 1 *-1                              #Multiplying by -1\n",
    "\n",
    "    positive_score[i] =pos_score\n",
    "    negative_score[i]=neg_score                                 \n",
    "    df['Positive score'] = df.index.map(positive_score)             #Storing positive score\n",
    "    df['Nagative score'] = df.index.map(negative_score)             #Storing negative score\n",
    "    #print(positive_score[i])\n",
    "    #print(pos_score)\n",
    "    #print(neg_score)\n",
    "\n",
    "    pol = pol_score(pos_score, neg_score) # Polarity score storing\n",
    "    polarity_score[i] = pol\n",
    "    df['Polarity score'] = df.index.map(polarity_score) \n",
    "    \n",
    "    #Subjectivity score storing\n",
    "    sub = subjectivity(pos_score, neg_score) \n",
    "    subjectivity_score[i]=sub\n",
    "    df['Subjectivity score'] = df.index.map(subjectivity_score)\n",
    "\n",
    "    #avg_sen_len = avg_sen_len()\n",
    "    avg_sen = averageSentence(text)\n",
    "    avgsen[i]=avg_sen\n",
    "    df['AVG SENTENCE LENGTH'] = df.index.map(avgsen)\n",
    "\n",
    "    pc = Percentage_complex_word(text)\n",
    "    Per_comp_word[i]=pc[0]\n",
    "    Fog_Index[i] = pc[1]\n",
    "    Avg_num_word_per_sen[i] = pc[2]\n",
    "    df['PERCENTAGE OF COMPLEX WORDS'] = df.index.map(Per_comp_word)\n",
    "    df['Fog Index'] = df.index.map(Fog_Index)\n",
    "    df['AVG NUMBER OF WORDS PER SENTENCE'] = df.index.map(Avg_num_word_per_sen)\n",
    "\n",
    "    cx = count_complex_words(text)\n",
    "    complex_word_count[i]=cx\n",
    "    df['COMPLEX WORD COUNT'] = df.index.map(complex_word_count)\n",
    "\n",
    "    # Download NLTK stopwords if not already downloaded\n",
    "    nltk.download('stopwords')\n",
    "    from nltk.corpus import stopwords\n",
    "    \n",
    "    # Get the list of English stopwords\n",
    "    stopwords = set(stopwords.words('english'))\n",
    "    \n",
    "    # Tokenize the input text into words\n",
    "    words = text.split()\n",
    "    \n",
    "    # Remove punctuation and filter out stopwords\n",
    "    cleaned_words = [word.strip(string.punctuation) for word in words if word.lower() not in stopwords]\n",
    "    c=len(cleaned_words)\n",
    "    clean_word_count[i]=c\n",
    "    df['WORD COUNT'] = df.index.map(clean_word_count)\n",
    "\n",
    "\n",
    "\n",
    "    sentences = nltk.sent_tokenize(text)\n",
    "        # Get the number of sentences\n",
    "    num_sentences = len(sentences)\n",
    "        # Initialize a variable for the number of words\n",
    "    num_words = 0\n",
    "        # Loop through the sentences and count the words\n",
    "    for sentence in sentences:\n",
    "        # Split the sentence into words\n",
    "        words = sentence.split()\n",
    "        # Get the number of words in the sentence\n",
    "        num_words += len(words)\n",
    "\n",
    "\n",
    "    spw = count_syllables_per_word(text)\n",
    "    SWP[i]=spw\n",
    "    df['SYLLABLE PER WORD'] = df.index.map(SWP)\n",
    "\n",
    "    total_pro_counts = count_personal_pronouns(text)\n",
    "    Total_pronoun_counts[i] = total_pro_counts\n",
    "    df['PERSONAL PRONOUNS'] = df.index.map(Total_pronoun_counts)\n",
    "\n",
    "    average = average_word_length(text)\n",
    "    Average_Word_Length[i]=average \n",
    "    df['AVG WORD LENGTH'] = df.index.map(Average_Word_Length)\n",
    "    print(url_id[i] +' Done !')\n",
    "    res[f'{url_id[i]}'] = sia.polarity_scores(clean_text)\n",
    "\n",
    "df.to_excel(\"Output Data Structure.xlsx\")\n"
   ]
  }
 ],
 "metadata": {
  "kernelspec": {
   "display_name": "Python 3",
   "language": "python",
   "name": "python3"
  },
  "language_info": {
   "codemirror_mode": {
    "name": "ipython",
    "version": 3
   },
   "file_extension": ".py",
   "mimetype": "text/x-python",
   "name": "python",
   "nbconvert_exporter": "python",
   "pygments_lexer": "ipython3",
   "version": "3.10.6"
  }
 },
 "nbformat": 4,
 "nbformat_minor": 2
}
